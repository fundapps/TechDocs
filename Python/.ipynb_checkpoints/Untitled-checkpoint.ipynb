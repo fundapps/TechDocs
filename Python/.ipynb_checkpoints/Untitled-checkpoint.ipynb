{
 "cells": [
  {
   "cell_type": "code",
   "execution_count": 25,
   "metadata": {},
   "outputs": [],
   "source": [
    "import requests as req\n",
    "from requests.auth import HTTPBasicAuth\n",
    "import xml\n",
    "from xml.etree import ElementTree\n",
    "import time\n",
    "\n",
    "base_url = 'https://master-staging-api.fundapps.co'\n",
    "\n",
    "files = {'file': ('Equities_Multilevel.zip', open('Equities_Multilevel.zip', 'rb'), 'text/XML')}\n",
    "r = req.post('{}/v1/expost/check'.format(base_url), auth=HTTPBasicAuth('imartinez', 'stax!zeXeche4at2'), files=files)\n",
    "\n",
    "if r.status_code == 202:\n",
    "    print('File accepted.')\n",
    "    xml_response = ElementTree.fromstring(r.content)\n",
    "    result_tracking_url = xml_response[0].text\n",
    "    r = req.get('{}{}'.format(base_url, result_tracking_url), auth=HTTPBasicAuth('imartinez', 'stax!zeXeche4at2'))\n",
    "    print(r.status_code)\n",
    "    while r.status_code == 202:\n",
    "        print('Upload in progress. Waiting 20 seconds before checking again.')\n",
    "        time.sleep(20)\n",
    "        r = req.get('{}{}'.format(base_url, result_tracking_url), auth=HTTPBasicAuth('imartinez', 'stax!zeXeche4at2'))\n",
    "        \n",
    "    print('Upload complete. Result XML:')\n",
    "    print(r.text)\n",
    "else:\n",
    "    print('Unexpected response from FundApps API. HTTP Status code:{}, reason:{}'.format(r.status_code, r.reason))"
   ]
  },
  {
   "cell_type": "code",
   "execution_count": 34,
   "metadata": {},
   "outputs": [
    {
     "name": "stdout",
     "output_type": "stream",
     "text": [
      "<Response [401]>\n"
     ]
    }
   ],
   "source": [
    "#print(r.body)\n",
    "#result_tracking_url = xml_response[0].text\n",
    "print(r)"
   ]
  },
  {
   "cell_type": "code",
   "execution_count": null,
   "metadata": {},
   "outputs": [],
   "source": []
  }
 ],
 "metadata": {
  "kernelspec": {
   "display_name": "Python 3",
   "language": "python",
   "name": "python3"
  },
  "language_info": {
   "codemirror_mode": {
    "name": "ipython",
    "version": 3
   },
   "file_extension": ".py",
   "mimetype": "text/x-python",
   "name": "python",
   "nbconvert_exporter": "python",
   "pygments_lexer": "ipython3",
   "version": "3.7.2"
  }
 },
 "nbformat": 4,
 "nbformat_minor": 2
}
